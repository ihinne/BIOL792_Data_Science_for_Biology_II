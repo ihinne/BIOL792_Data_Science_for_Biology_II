{
 "cells": [
  {
   "cell_type": "markdown",
   "metadata": {},
   "source": [
    "# Jypyter Notebooks and Python Refresh Homework 3\n",
    "We are going to do the Python Refresh Homework in a juypyter Notebook. In this homework we will review the basic principles of python programming. You will work through a few questions and build some scripts. You will need the Bloom et al Dataset found in this repository. For each question add a cell to put your answer in either as a text cell or a code cell following the question.\n",
    "\n",
    "### Markdown\n",
    "Here is a [markdown refresh](https://programminghistorian.org/en/lessons/getting-started-with-markdown)\n",
    "\n",
    "### General concepts to refresh and lessons to review if you need them:\n",
    "\n",
    "Here is a nice [Python_Refresh](https://pythonforbiologists.com/introduction) that goes over the majority of the basic python commands.\n",
    "\n",
    "Remember these Primers from Last Semester\n",
    "\n",
    "[Python_Primer1](https://github.com/tparchman/BIOL792_course_site/blob/master/week6_pythonI/python_1_primer.md) \n",
    "\n",
    "[Lists_for_loops](https://github.com/tparchman/BIOL792_course_site/blob/master/week7_pythonII/python_2_primer.md)\n",
    "\n",
    "[Input_Output](https://github.com/tparchman/BIOL792_course_site/blob/master/week8_python3/python_3_primer.md)\n",
    "\n",
    "[Dictionaries](https://github.com/tparchman/BIOL792_course_site/blob/master/week11_python6/primer_python6.md)\n",
    "\n",
    "\n",
    "### Remember these Common commands as you work through this exercise\n",
    "\tdata types\n",
    "\tlists and dictionaries \n",
    "\tif while and for loops\n",
    "\treading files\n",
    "\n"
   ]
  },
  {
   "cell_type": "markdown",
   "metadata": {},
   "source": [
    "## Part I: Questions"
   ]
  },
  {
   "cell_type": "markdown",
   "metadata": {},
   "source": [
    "1.\tName one of the basic building blocks of programming and a small definition."
   ]
  },
  {
   "cell_type": "markdown",
   "metadata": {},
   "source": [
    "Variable - A variable is a fundamental component of programming. It is a container that is used to store information that can be referenced by a computer program. It provides a way of labelling data."
   ]
  },
  {
   "cell_type": "markdown",
   "metadata": {},
   "source": [
    "2.\tMatch the data type to the appropriate data\n",
    "    \n",
    "    **Data type:** string, integer, boolean, floating point\n",
    "    \n",
    "    **Data:** true, 123, 'I am a programmer', 34.63221\n"
   ]
  },
  {
   "cell_type": "markdown",
   "metadata": {},
   "source": [
    "String - I am a 'programmer'\n",
    "integer - 123\n",
    "boolean - true\n",
    "floating point - 34.63221\n"
   ]
  },
  {
   "cell_type": "markdown",
   "metadata": {},
   "source": [
    "3.\tWhat would I get if I did tried to add these to numbers together ```123``` and ```5```.\n",
    "\t\t\n",
    "\t\ta) if the numbers were formatted as strings\n",
    "\t\t\n",
    "\t\tb) if they were formatted as integers"
   ]
  },
  {
   "cell_type": "markdown",
   "metadata": {},
   "source": [
    " a) 128\n",
    " b) 1235\n"
   ]
  },
  {
   "cell_type": "markdown",
   "metadata": {},
   "source": [
    "4.\tLists, also called vectors, are one dimensional arrays and are a series of items. From the following list what would the question ```apple_list[3]``` return?  Remember we refer to items in a list by their position. Hint – remember how computers count.\n",
    "\t\t\n",
    "\t\t```apple_list=[‘banana’,’pear’,’kumquat’,’pomegranate’,’passion fruit’]```"
   ]
  },
  {
   "cell_type": "markdown",
   "metadata": {},
   "source": [
    "pomegranate"
   ]
  },
  {
   "cell_type": "markdown",
   "metadata": {},
   "source": [
    "5.\tName a difference between lists and dictionaries?"
   ]
  },
  {
   "cell_type": "markdown",
   "metadata": {},
   "source": [
    "A list is an ordered sequence of objects, whereas dictionaries are unordered sets."
   ]
  },
  {
   "cell_type": "markdown",
   "metadata": {},
   "source": [
    "6.\tWhat would you get from this question from the following dictionary:  ```fruit_dict[‘pear’]```\n",
    "```\t\t\n",
    "\t\tfruit_dict = {}\n",
    "\t\tfruit_dict[‘apple’]=10\n",
    "\t\tfruit_dict[‘pear’] = 3\n",
    "\t\tfruit_dict[‘walnut’]=216\n",
    "```\n",
    "or in another way\n",
    "\n",
    "\n",
    "```\n",
    "fruit_dict = {\n",
    "    'apple':10,\n",
    "    'pear':3,\n",
    "    'walnut':216,\n",
    "}\n",
    "\n",
    "print(fruit_dict)\n",
    "```\n",
    "\n"
   ]
  },
  {
   "cell_type": "markdown",
   "metadata": {},
   "source": [
    "3"
   ]
  },
  {
   "cell_type": "markdown",
   "metadata": {},
   "source": [
    "7.\tIn python what does the function ```.replace()``` do?"
   ]
  },
  {
   "cell_type": "markdown",
   "metadata": {},
   "source": [
    " replaces a specified phrase with another specified phrase"
   ]
  },
  {
   "cell_type": "markdown",
   "metadata": {},
   "source": [
    "8.\tHow do you print something in python?  For example write a print statement to print “hello world!”"
   ]
  },
  {
   "cell_type": "markdown",
   "metadata": {},
   "source": [
    "print('hello world')"
   ]
  },
  {
   "cell_type": "markdown",
   "metadata": {},
   "source": [
    "9.Name one place you can go to get help with python?"
   ]
  },
  {
   "cell_type": "markdown",
   "metadata": {},
   "source": [
    "python.org"
   ]
  },
  {
   "cell_type": "raw",
   "metadata": {},
   "source": [
    "10.\tWhat is an ```if``` statement and when would you use one?"
   ]
  },
  {
   "cell_type": "markdown",
   "metadata": {},
   "source": [
    "An if statement tells the program to execute a block of code, if a condition is true. if statements are used in programming when we want the program to make decisions based on certain conditions."
   ]
  },
  {
   "cell_type": "raw",
   "metadata": {},
   "source": [
    "11.\tFrom this list:  ```container_list = [‘can’,’jar’,’hat’]``` What would be returned from this: ```container_list[0:2]```.  Hint: Remember one number is inclusive and one exclusive."
   ]
  },
  {
   "cell_type": "markdown",
   "metadata": {},
   "source": [
    "['can', 'jar']"
   ]
  },
  {
   "cell_type": "markdown",
   "metadata": {},
   "source": [
    "12.\tWhat is the difference between an ```if``` statement and a ```while``` loop?\n"
   ]
  },
  {
   "cell_type": "markdown",
   "metadata": {},
   "source": [
    "an if statement gives you once the possibility to do something or not (or something else). Whereas a while loop does things as long as the condition is true."
   ]
  },
  {
   "cell_type": "markdown",
   "metadata": {},
   "source": [
    "13.\tWhat would you get with the command ```fruit_dict.keys()```  after entering this dictionary:  \n",
    "\t\tfruit_dict = {}\n",
    "\t\tfruit_dict[‘apple’]=10\n",
    "\t\tfruit_dict[‘pear’] = 3\n",
    "\t\tfruit_dict[‘walnut’]=216"
   ]
  },
  {
   "cell_type": "markdown",
   "metadata": {},
   "source": [
    "dict_keys(['apple', 'pear', 'walnut'])"
   ]
  },
  {
   "cell_type": "markdown",
   "metadata": {},
   "source": [
    "14.\tIn this statement: ```InFileName = open(InFileName, ‘r’)``` what does the ‘r’ indicate ?"
   ]
  },
  {
   "cell_type": "code",
   "execution_count": null,
   "metadata": {},
   "outputs": [],
   "source": [
    "'r' indicates the mode in which the file is being opened i.e. \"read mode\"."
   ]
  },
  {
   "cell_type": "markdown",
   "metadata": {},
   "source": [
    "15.\tWhat does this command do? ```Line.strip(‘\\n’)``` why would you use it when printing out lines to the screen?"
   ]
  },
  {
   "cell_type": "markdown",
   "metadata": {},
   "source": [
    "The command Line.strip('\\n') removes any trailing newline character ('\\n') from the string stored in the variable Line.\n",
    "When printing lines to the screen, we use Line.strip(‘\\n’) to the newline character, so that each line is printed on a new line without any extra whitespace."
   ]
  },
  {
   "cell_type": "markdown",
   "metadata": {},
   "source": [
    "16.\tHow would you split a line from a csv file into a list"
   ]
  },
  {
   "cell_type": "markdown",
   "metadata": {},
   "source": [
    "Use csv.reader from the pythin csv module to split each row into a list of strings, using commas as the delimiter by default. You can also specify a different delimiter by passing it as an argument to csv.reader"
   ]
  },
  {
   "cell_type": "markdown",
   "metadata": {},
   "source": [
    "## Part II:  Practice Scripts\n",
    "Below each question write the name of the script so I can find them. All scripts should be documented with in-line documentation."
   ]
  },
  {
   "cell_type": "markdown",
   "metadata": {},
   "source": [
    "1.\tCreate a documented python script that would \n",
    "\n",
    "\t\t**a.** take this number 112345678911234566 and count the number of 2s in the string and print out the number. \n",
    "\n",
    "\t\t**b.** take a sentence from user input, turn it all to lowercase letters and remove the spaces and count the length and print out the length.  You choose the sentence. \n"
   ]
  },
  {
   "cell_type": "code",
   "execution_count": 12,
   "metadata": {},
   "outputs": [
    {
     "name": "stdout",
     "output_type": "stream",
     "text": [
      "The number of twos in 112345678911234566 is: 2\n",
      "Enter a sentence: sentence this\n",
      "The number of letters in the sentence \"sentence this\" is: 12\n"
     ]
    }
   ],
   "source": [
    "\n",
    "def count_twos_in_number(number):  # This function takes in a number as a string, iterate over each digit\n",
    "                                   # and counts the number of times the digit \"2\" appears \n",
    "   \n",
    "    count = 0\n",
    "    for digit in number:\n",
    "        if digit == '2':\n",
    "            count += 1\n",
    "    return count\n",
    "\n",
    "\n",
    "# The count_letters_in_sentence function takes in a string representing a sentence, converts it to lowercase, \n",
    "# removes spaces, and counts the number of letters in the resulting string.\n",
    "\n",
    "def count_letters_in_sentence(sentence):\n",
    "    \n",
    "    sentence = sentence.lower().replace(' ', '')\n",
    "    return len(sentence)\n",
    "\n",
    "# Use\n",
    "\n",
    "number = '112345678911234566'\n",
    "twos_count = count_twos_in_number(number)\n",
    "print(f'The number of twos in {number} is: {twos_count}')\n",
    "\n",
    "sentence = input('Enter a sentence: ')\n",
    "letters_count = count_letters_in_sentence(sentence)\n",
    "print(f'The number of letters in the sentence \"{sentence}\" is: {letters_count}')\n"
   ]
  },
  {
   "cell_type": "markdown",
   "metadata": {},
   "source": [
    "2.\tCreate a documented python script that will do the following two things. For each task, first write the pseudocode, comment out the pseudocode and beneath the pseudocode write the script.\n",
    "\n",
    "\t\t**a.** Create a list of numbers (any numbers you like). Then loop through the items in the list adding 1 to every number and print those numbers.\n",
    "\n",
    "\t\t**b.** Create a dictionary of animals and their sizes (make up whatever you want). Print out the keys of the dictionary. Make a list of all the animals and then write an if else statement to print out the animal name and the word “big” if the weight is over 20 grams and the word “small” if the weight is less than 20 grams. "
   ]
  },
  {
   "cell_type": "code",
   "execution_count": null,
   "metadata": {},
   "outputs": [],
   "source": [
    "# a. Pseudocode:\n",
    "# 1. Create a list of numbers\n",
    "# 2. Loop through the items in the list\n",
    "# 3. Add 1 to each number in the list\n",
    "# 4. Print the new list of numbers\n",
    "\n",
    "# Script:\n",
    "numbers = [5, 10, 15, 20, 25]\n",
    "\n",
    "for i in range(len(numbers)):\n",
    "    numbers[i] += 1\n",
    "\n",
    "print(numbers)\n",
    "\n",
    "\n",
    "# b. Pseudocode:\n",
    "# 1. Create a dictionary of animals and their sizes\n",
    "# 2. Print out the keys of the dictionary\n",
    "# 3. Make a list of all the animals\n",
    "# 4. Loop through the list of animals\n",
    "# 5. For each animal, check its weight in the dictionary\n",
    "# 6. If the weight is over 20 grams, print the animal name and \"big\"\n",
    "# 7. If the weight is less than 20 grams, print the animal name and \"small\"\n",
    "\n",
    "# Script:\n",
    "animals = {'elephant': 5000, 'mouse': 0.02, 'lion': 200, 'snake': 2}\n",
    "\n",
    "print(\"Dictionary keys:\", list(animals.keys()))\n",
    "\n",
    "animal_list = list(animals.keys())\n",
    "\n",
    "for animal in animal_list:\n",
    "    if animals[animal] > 20:\n",
    "        print(animal, \"big\")\n",
    "    else:\n",
    "        print(animal, \"small\")\n"
   ]
  },
  {
   "cell_type": "markdown",
   "metadata": {},
   "source": [
    "3.\tCreate a documented python script that will open up the file “Bloom_etal_2018_Reduced_Dataset”.  Read through the file and print out the taxon name and their diadromous status. Add up all of the log body sizes and print out the total log body size for all the individuals in the file.  "
   ]
  },
  {
   "cell_type": "code",
   "execution_count": null,
   "metadata": {},
   "outputs": [],
   "source": [
    "file = open(\"name of the file\", 'r') #3 r =read mode , w =writemode\n",
    "for line in read_file:\n",
    "    list_of_each_line = line.split(',')[]\n",
    "    taxa_name = list_of_each_line[0]\n",
    "    dia_or_not = list_of_each_line[3] # or -1\n",
    "    log_body_size_each =list_of_each_line[1]\n",
    "    # sum = \n",
    "    print(taxa_name, dia_or_not, log_body_size_each)"
   ]
  },
  {
   "cell_type": "code",
   "execution_count": 5,
   "metadata": {},
   "outputs": [
    {
     "name": "stdout",
     "output_type": "stream",
     "text": [
      "ï»¿taxa Reg logbodysize\n",
      "Alosa_alabamae diadromous 1.707570176\n",
      "Alosa_alosa diadromous 1.77815125\n",
      "Alosa_fallax diadromous 1.77815125\n",
      "Alosa_mediocris diadromous 1.77815125\n",
      "Alosa_pseudoharengus diadromous 1.602059991\n",
      "Alosa_sapidissima diadromous 1.790285164\n",
      "Amazonsprattus_scintilla non-diadromous 0.301029996\n",
      "Anchoa_chamensis non-diadromous 0.77815125\n",
      "Anchoa_cubana non-diadromous 0.84509804\n",
      "Anchoa_delicatissima non-diadromous 0.903089987\n",
      "Anchoa_lamprotaenia non-diadromous 0.963787827\n",
      "Anchoa_lyolepis non-diadromous 0.84509804\n",
      "Anchoa_parva non-diadromous 0.77815125\n",
      "Anchoa_schofieldi non-diadromous 0.792391689\n",
      "Anchovia_surinamensis non-diadromous 1.093421685\n",
      "Anchoviella_balboae non-diadromous 0.857332496\n",
      "Anchoviella_brevirostris non-diadromous 0.857332496\n",
      "Anchoviella_jamesi non-diadromous 0.698970004\n",
      "Anchoviella_lepidentostole diadromous 1.064457989\n",
      "Anchoviella_manamensis non-diadromous 0.397940009\n",
      "Anodontostoma_chacunda diadromous 1.342422681\n",
      "Cetengraulis_edentulus non-diadromous 1.113943352\n",
      "Chirocentrodon_bleekerianus non-diadromous 0.954242509\n",
      "Clupeichthys_perakensis non-diadromous 0.602059991\n",
      "Clupeoides_borneensis non-diadromous 0.903089987\n",
      "Coilia_nasus diadromous 1.544068044\n",
      "Ehirava_fluviatilis non-diadromous 0.698970004\n",
      "Encrasicholina_devisi non-diadromous 0.903089987\n",
      "Engraulis_eurystole non-diadromous 1.190331698\n",
      "Escualosa_thoracata non-diadromous 1\n",
      "Ethmalosa_fimbriata diadromous 1.544068044\n",
      "Gilchristella_aestuaria non-diadromous 1\n",
      "Hilsa_kelee diadromous 1.387389826\n",
      "Hyperlophus_vittatus non-diadromous 1\n",
      "Jenkinsia_lamprotaenia non-diadromous 0.838849091\n",
      "Microthrissa_congica non-diadromous 0.77815125\n",
      "Pellona_harroweri non-diadromous 1.113943352\n",
      "Pellonula_leonensis diadromous 0.929418926\n",
      "Pellonula_vorax diadromous 1.079181246\n",
      "Potamalosa_richmondia diadromous 1.505149978\n",
      "Ramnogaster_sp non-diadromous 0.903089987\n",
      "Rhinosardinia_bahiensis non-diadromous 0.903089987\n",
      "Sauvagella_robusta non-diadromous 0.672097858\n",
      "Sierrathrissa_leonensis non-diadromous 0.477121255\n",
      "Spratelloides_delicatulus non-diadromous 0.84509804\n",
      "Stolephorus_waitei non-diadromous 0.973127854\n",
      "Stolothrissa_tanganicae non-diadromous 1\n",
      "Sundasalanx_mekongensis non-diadromous 0.447158031\n",
      "Tenualosa_ilisha diadromous 1.77815125\n",
      "Thryssa_cf_dussumieri non-diadromous 1.041392685\n"
     ]
    }
   ],
   "source": [
    "read_file = open(\"Bloom_etal_2018_Reduced_Dataset.csv\",'r')\n",
    "for line in read_file:\n",
    "    line = line.strip(\"\\n\")\n",
    "    list_of_each_line = line.split(',')\n",
    "    taxa_name = list_of_each_line[0]\n",
    "    dia_or_not = list_of_each_line[-1]\n",
    "    log_body_size_each = list_of_each_line[1]\n",
    "    \n",
    "    print(taxa_name, dia_or_not, log_body_size_each)\n",
    "    #print(list_of_each_line)"
   ]
  },
  {
   "cell_type": "code",
   "execution_count": 3,
   "metadata": {},
   "outputs": [
    {
     "name": "stdout",
     "output_type": "stream",
     "text": [
      "Alosa_alabamae diadromous 1.707570176\n",
      "Alosa_alosa diadromous 1.77815125\n",
      "Alosa_fallax diadromous 1.77815125\n",
      "Alosa_mediocris diadromous 1.77815125\n",
      "Alosa_pseudoharengus diadromous 1.602059991\n",
      "Alosa_sapidissima diadromous 1.790285164\n",
      "Amazonsprattus_scintilla non-diadromous 0.301029996\n",
      "Anchoa_chamensis non-diadromous 0.77815125\n",
      "Anchoa_cubana non-diadromous 0.84509804\n",
      "Anchoa_delicatissima non-diadromous 0.903089987\n",
      "Anchoa_lamprotaenia non-diadromous 0.963787827\n",
      "Anchoa_lyolepis non-diadromous 0.84509804\n",
      "Anchoa_parva non-diadromous 0.77815125\n",
      "Anchoa_schofieldi non-diadromous 0.792391689\n",
      "Anchovia_surinamensis non-diadromous 1.093421685\n",
      "Anchoviella_balboae non-diadromous 0.857332496\n",
      "Anchoviella_brevirostris non-diadromous 0.857332496\n",
      "Anchoviella_jamesi non-diadromous 0.698970004\n",
      "Anchoviella_lepidentostole diadromous 1.064457989\n",
      "Anchoviella_manamensis non-diadromous 0.397940009\n",
      "Anodontostoma_chacunda diadromous 1.342422681\n",
      "Cetengraulis_edentulus non-diadromous 1.113943352\n",
      "Chirocentrodon_bleekerianus non-diadromous 0.954242509\n",
      "Clupeichthys_perakensis non-diadromous 0.602059991\n",
      "Clupeoides_borneensis non-diadromous 0.903089987\n",
      "Coilia_nasus diadromous 1.544068044\n",
      "Ehirava_fluviatilis non-diadromous 0.698970004\n",
      "Encrasicholina_devisi non-diadromous 0.903089987\n",
      "Engraulis_eurystole non-diadromous 1.190331698\n",
      "Escualosa_thoracata non-diadromous 1\n",
      "Ethmalosa_fimbriata diadromous 1.544068044\n",
      "Gilchristella_aestuaria non-diadromous 1\n",
      "Hilsa_kelee diadromous 1.387389826\n",
      "Hyperlophus_vittatus non-diadromous 1\n",
      "Jenkinsia_lamprotaenia non-diadromous 0.838849091\n",
      "Microthrissa_congica non-diadromous 0.77815125\n",
      "Pellona_harroweri non-diadromous 1.113943352\n",
      "Pellonula_leonensis diadromous 0.929418926\n",
      "Pellonula_vorax diadromous 1.079181246\n",
      "Potamalosa_richmondia diadromous 1.505149978\n",
      "Ramnogaster_sp non-diadromous 0.903089987\n",
      "Rhinosardinia_bahiensis non-diadromous 0.903089987\n",
      "Sauvagella_robusta non-diadromous 0.672097858\n",
      "Sierrathrissa_leonensis non-diadromous 0.477121255\n",
      "Spratelloides_delicatulus non-diadromous 0.84509804\n",
      "Stolephorus_waitei non-diadromous 0.973127854\n",
      "Stolothrissa_tanganicae non-diadromous 1\n",
      "Sundasalanx_mekongensis non-diadromous 0.447158031\n",
      "Tenualosa_ilisha diadromous 1.77815125\n",
      "Thryssa_cf_dussumieri non-diadromous 1.041392685\n"
     ]
    }
   ],
   "source": [
    "import csv\n",
    "with open(\"Bloom_etal_2018_Reduced_Dataset.csv\", 'r') as homework_file:\n",
    "    csvreader_temp = csv.reader(homework_file)\n",
    "    fields = next(csvreader_temp) #essentially skips the first line --> header line\n",
    "    \n",
    "    for items in csvreader_temp:\n",
    "        taxa = items[0]\n",
    "        dia = items[-1]\n",
    "        log_body_size = items[1]\n",
    "        \n",
    "        print(taxa, dia, log_body_size)"
   ]
  },
  {
   "cell_type": "code",
   "execution_count": 10,
   "metadata": {},
   "outputs": [
    {
     "name": "stdout",
     "output_type": "stream",
     "text": [
      "Alosa_alabamae diadromous 1.707570176\n",
      "Alosa_alosa diadromous 1.77815125\n",
      "Alosa_fallax diadromous 1.77815125\n",
      "Alosa_mediocris diadromous 1.77815125\n",
      "Alosa_pseudoharengus diadromous 1.602059991\n",
      "Alosa_sapidissima diadromous 1.790285164\n",
      "Amazonsprattus_scintilla non-diadromous 0.301029996\n",
      "Anchoa_chamensis non-diadromous 0.77815125\n",
      "Anchoa_cubana non-diadromous 0.84509804\n",
      "Anchoa_delicatissima non-diadromous 0.903089987\n",
      "Anchoa_lamprotaenia non-diadromous 0.963787827\n",
      "Anchoa_lyolepis non-diadromous 0.84509804\n",
      "Anchoa_parva non-diadromous 0.77815125\n",
      "Anchoa_schofieldi non-diadromous 0.792391689\n",
      "Anchovia_surinamensis non-diadromous 1.093421685\n",
      "Anchoviella_balboae non-diadromous 0.857332496\n",
      "Anchoviella_brevirostris non-diadromous 0.857332496\n",
      "Anchoviella_jamesi non-diadromous 0.698970004\n",
      "Anchoviella_lepidentostole diadromous 1.064457989\n",
      "Anchoviella_manamensis non-diadromous 0.397940009\n",
      "Anodontostoma_chacunda diadromous 1.342422681\n",
      "Cetengraulis_edentulus non-diadromous 1.113943352\n",
      "Chirocentrodon_bleekerianus non-diadromous 0.954242509\n",
      "Clupeichthys_perakensis non-diadromous 0.602059991\n",
      "Clupeoides_borneensis non-diadromous 0.903089987\n",
      "Coilia_nasus diadromous 1.544068044\n",
      "Ehirava_fluviatilis non-diadromous 0.698970004\n",
      "Encrasicholina_devisi non-diadromous 0.903089987\n",
      "Engraulis_eurystole non-diadromous 1.190331698\n",
      "Escualosa_thoracata non-diadromous 1.0\n",
      "Ethmalosa_fimbriata diadromous 1.544068044\n",
      "Gilchristella_aestuaria non-diadromous 1.0\n",
      "Hilsa_kelee diadromous 1.387389826\n",
      "Hyperlophus_vittatus non-diadromous 1.0\n",
      "Jenkinsia_lamprotaenia non-diadromous 0.838849091\n",
      "Microthrissa_congica non-diadromous 0.77815125\n",
      "Pellona_harroweri non-diadromous 1.113943352\n",
      "Pellonula_leonensis diadromous 0.929418926\n",
      "Pellonula_vorax diadromous 1.079181246\n",
      "Potamalosa_richmondia diadromous 1.505149978\n",
      "Ramnogaster_sp non-diadromous 0.903089987\n",
      "Rhinosardinia_bahiensis non-diadromous 0.903089987\n",
      "Sauvagella_robusta non-diadromous 0.672097858\n",
      "Sierrathrissa_leonensis non-diadromous 0.477121255\n",
      "Spratelloides_delicatulus non-diadromous 0.84509804\n",
      "Stolephorus_waitei non-diadromous 0.973127854\n",
      "Stolothrissa_tanganicae non-diadromous 1.0\n",
      "Sundasalanx_mekongensis non-diadromous 0.447158031\n",
      "Tenualosa_ilisha diadromous 1.77815125\n",
      "Thryssa_cf_dussumieri non-diadromous 1.041392685\n",
      "sum of log body size 52.079318752000006\n"
     ]
    }
   ],
   "source": [
    "import csv\n",
    "\n",
    "sum = 0.0\n",
    "with open(\"Bloom_etal_2018_Reduced_Dataset.csv\", 'r') as homework_file:\n",
    "    csvreader_temp = csv.reader(homework_file)\n",
    "    fields = next(csvreader_temp) #essentially skips the first line --> header line\n",
    "    \n",
    "    for items in csvreader_temp:\n",
    "        taxa = items[0]\n",
    "        dia = items[-1]\n",
    "        log_body_size = float(items[1])\n",
    "        sum = sum + log_body_size\n",
    "        print(taxa, dia, log_body_size, sum)\n",
    "    print(\"sum of log body size\", sum)"
   ]
  }
 ],
 "metadata": {
  "kernelspec": {
   "display_name": "Python 3 (ipykernel)",
   "language": "python",
   "name": "python3"
  },
  "language_info": {
   "codemirror_mode": {
    "name": "ipython",
    "version": 3
   },
   "file_extension": ".py",
   "mimetype": "text/x-python",
   "name": "python",
   "nbconvert_exporter": "python",
   "pygments_lexer": "ipython3",
   "version": "3.9.12"
  }
 },
 "nbformat": 4,
 "nbformat_minor": 4
}
